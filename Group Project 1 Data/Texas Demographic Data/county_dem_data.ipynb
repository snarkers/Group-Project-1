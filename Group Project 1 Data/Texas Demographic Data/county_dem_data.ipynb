{
 "cells": [
  {
   "cell_type": "code",
   "execution_count": 2,
   "metadata": {},
   "outputs": [],
   "source": [
    "import matplotlib.pyplot as plt\n",
    "import pandas as pd\n",
    "import numpy as np"
   ]
  },
  {
   "cell_type": "code",
   "execution_count": null,
   "metadata": {},
   "outputs": [],
   "source": [
    "#katie's part\n",
    "dem_data_0010_load = \"2000-2010/demodata.csv\"\n",
    "dem_data_0010 = pd.read_csv(dem_data_0010_load)"
   ]
  },
  {
   "cell_type": "code",
   "execution_count": 3,
   "metadata": {},
   "outputs": [
    {
     "name": "stdout",
     "output_type": "stream",
     "text": [
      "               County  FIPS         Age     Total  Total_Male  Total_Female  \\\n",
      "0      STATE OF TEXAS     0    All Ages  28702243    14254981      14447262   \n",
      "1      STATE OF TEXAS     0    < 1 Year    389277      198709        190568   \n",
      "2      STATE OF TEXAS     0     1 Years    395402      201725        193677   \n",
      "3      STATE OF TEXAS     0     2 Years    407861      208076        199785   \n",
      "4      STATE OF TEXAS     0     3 Years    417497      213195        204302   \n",
      "...               ...   ...         ...       ...         ...           ...   \n",
      "24730   ZAVALA COUNTY   507    91 Years        16           7             9   \n",
      "24731   ZAVALA COUNTY   507    92 Years        12           7             5   \n",
      "24732   ZAVALA COUNTY   507    93 Years         9           5             4   \n",
      "24733   ZAVALA COUNTY   507    94 Years         9           3             6   \n",
      "24734   ZAVALA COUNTY   507  95 Years +        26           9            17   \n",
      "\n",
      "       NH_White_Total  NH_White_Male  NH_White_Female  NH_Black_Total  ...  \\\n",
      "0            12008303        5953354          6054949         3394972  ...   \n",
      "1              114969          58905            56064           46083  ...   \n",
      "2              117408          60141            57267           46604  ...   \n",
      "3              122987          62939            60048           47786  ...   \n",
      "4              127819          65480            62339           48419  ...   \n",
      "...               ...            ...              ...             ...  ...   \n",
      "24730               6              3                3               0  ...   \n",
      "24731               2              1                1               0  ...   \n",
      "24732               3              2                1               0  ...   \n",
      "24733               3              1                2               0  ...   \n",
      "24734               8              3                5               1  ...   \n",
      "\n",
      "       NH_Black_Female  NH_Asian_Total  NH_Asian_Male  NH_Asian_Female  \\\n",
      "0              1752264         1381899         677090           704809   \n",
      "1                22639           16580           8469             8111   \n",
      "2                22959           16511           8468             8043   \n",
      "3                23539           17479           8955             8524   \n",
      "4                23920           17931           9220             8711   \n",
      "...                ...             ...            ...              ...   \n",
      "24730                0               0              0                0   \n",
      "24731                0               0              0                0   \n",
      "24732                0               0              0                0   \n",
      "24733                0               0              0                0   \n",
      "24734                0               0              0                0   \n",
      "\n",
      "       NH_Other_Total  NH_Other_Male  NH_Other_Female  Hispanic_Total  \\\n",
      "0              629148         312300           316848        11287921   \n",
      "1               17102           8778             8324          194543   \n",
      "2               17255           8835             8420          197624   \n",
      "3               17292           8840             8452          202317   \n",
      "4               17230           8795             8435          206098   \n",
      "...               ...            ...              ...             ...   \n",
      "24730               0              0                0              10   \n",
      "24731               0              0                0              10   \n",
      "24732               0              0                0               6   \n",
      "24733               0              0                0               6   \n",
      "24734               1              0                1              16   \n",
      "\n",
      "       Hispanic_Male  Hispanic_Female  \n",
      "0            5669529          5618392  \n",
      "1              99113            95430  \n",
      "2             100636            96988  \n",
      "3             103095            99222  \n",
      "4             105201           100897  \n",
      "...              ...              ...  \n",
      "24730              4                6  \n",
      "24731              6                4  \n",
      "24732              3                3  \n",
      "24733              2                4  \n",
      "24734              5               11  \n",
      "\n",
      "[24735 rows x 21 columns]\n"
     ]
    }
   ],
   "source": [
    "dem_data_2011_load = \"2011/alldata.csv\"\n",
    "dem_data_2011 = pd.read_csv(dem_data_2011_load)\n",
    "\n",
    "dem_data_2012_load = \"2012/alldata.csv\"\n",
    "dem_data_2012 = pd.read_csv(dem_data_2012_load)\n",
    "\n",
    "dem_data_2013_load = \"2013/alldata.csv\"\n",
    "dem_data_2013 = pd.read_csv(dem_data_2013_load)\n",
    "\n",
    "dem_data_2014_load = \"2014/alldata.csv\"\n",
    "dem_data_2014 = pd.read_csv(dem_data_2014_load)\n",
    "\n",
    "dem_data_2015_load = \"2015/alldata.csv\"\n",
    "dem_data_2015 = pd.read_csv(dem_data_2015_load)\n",
    "\n",
    "dem_data_2016_load = \"2016/alldata.csv\"\n",
    "dem_data_2016 = pd.read_csv(dem_data_2016_load)\n",
    "\n",
    "df_2011 = pd.DataFrame(dem_data_2011, index = [0], columns = ['Total', 'Anglo Total', 'Black Total', 'Other Total', 'Hispanic Total'])\n",
    "\n",
    "df_2012 = pd.DataFrame(dem_data_2012, index = [0], columns = ['Total', 'Anglo Total', 'Black Total', 'Other Total', 'Hispanic Total'])\n",
    "\n",
    "df_2013 = pd.DataFrame(dem_data_2013, index = [0], columns = ['Total', 'Anglo Total', 'Black Total', 'Other Total', 'Hispanic Total'])\n",
    "\n",
    "df_2014 = pd.DataFrame(dem_data_2014, index = [0], columns = ['Total', 'Anglo Total', 'Black Total', 'Other Total', 'Hispanic Total'])\n",
    "\n",
    "df_2015 = pd.DataFrame(dem_data_2015, index = [0], columns = ['Total', 'Anglo Total', 'Black Total', 'Other Total', 'Hispanic Total'])\n",
    "\n",
    "df_2016 = pd.DataFrame(dem_data_2016, index = [0], columns = ['Total', 'Anglo Total', 'Black Total', 'Other Total', 'Hispanic Total'])\n",
    "\n",
    "#indexed by age 0-85, need to trim/pivot/ understand working with multi-index tables"
   ]
  },
  {
   "cell_type": "code",
   "execution_count": null,
   "metadata": {},
   "outputs": [],
   "source": [
    "dem_data_2017_load = \"2017/alldata.csv\"\n",
    "dem_data_2017 = pd.read_csv(dem_data_2017_load)\n",
    "\n",
    "dem_data_2018_load = \"2018/alldata.csv\"\n",
    "dem_data_2018 = pd.read_csv(dem_data_2018_load)"
   ]
  },
  {
   "cell_type": "code",
   "execution_count": 4,
   "metadata": {},
   "outputs": [],
   "source": [
    "df_2017 = pd.DataFrame(dem_data_2017, index = [0], columns = ['Total', 'NH_White_Total', 'NH_Black_Total', 'NH_Asian_Total NH_Other_Total', 'NH_Hispanic_Total'])\n",
    "#rename headers\n",
    "df_2018 = pd.DataFrame(dem_data_2018, index = [0], columns = ['Total', 'NH_White_Total', 'NH_Black_Total', 'NH_Asian_Total NH_Other_Total', 'NH_Hispanic_Total'])\n",
    "#rename headers"
   ]
  },
  {
   "cell_type": "code",
   "execution_count": null,
   "metadata": {},
   "outputs": [],
   "source": [
    "df_totals = pd.concat([df_2011, df_2012, df_2013, df_2014, df_2015, df_2016, df_2017, df_2018], axis=0)\n",
    "\n"
   ]
  },
  {
   "cell_type": "code",
   "execution_count": null,
   "metadata": {},
   "outputs": [],
   "source": []
  }
 ],
 "metadata": {
  "kernelspec": {
   "display_name": "Python 3",
   "language": "python",
   "name": "python3"
  },
  "language_info": {
   "codemirror_mode": {
    "name": "ipython",
    "version": 3
   },
   "file_extension": ".py",
   "mimetype": "text/x-python",
   "name": "python",
   "nbconvert_exporter": "python",
   "pygments_lexer": "ipython3",
   "version": "3.7.4"
  }
 },
 "nbformat": 4,
 "nbformat_minor": 4
}
